{
 "cells": [
  {
   "cell_type": "markdown",
   "id": "0cacf3d3",
   "metadata": {},
   "source": [
    "## O Problema a ser Resolvido\n",
    "\n",
    "O objetivo deste projeto é elaborar uma rede neural para predizer qual o sentimento a pessoa da imagem em questão está transmitindo. <br>\n",
    "\n",
    "### Sobre os sentimentos:\n",
    "\n",
    "* Raiva;\n",
    "* Nojo;\n",
    "* Medo;\n",
    "* Felicidade;\n",
    "* Tristeza;\n",
    "* Surpresa;\n",
    "* Neutro.\n"
   ]
  },
  {
   "cell_type": "markdown",
   "id": "b32ce468",
   "metadata": {},
   "source": [
    "## Pacotes"
   ]
  },
  {
   "cell_type": "code",
   "execution_count": 2,
   "id": "6503e1ef",
   "metadata": {},
   "outputs": [
    {
     "name": "stderr",
     "output_type": "stream",
     "text": [
      "2025-09-25 17:09:48.252861: I tensorflow/core/platform/cpu_feature_guard.cc:210] This TensorFlow binary is optimized to use available CPU instructions in performance-critical operations.\n",
      "To enable the following instructions: SSE4.1 SSE4.2 AVX AVX2 FMA, in other operations, rebuild TensorFlow with the appropriate compiler flags.\n"
     ]
    }
   ],
   "source": [
    "import numpy as np\n",
    "import tensorflow as tf \n",
    "from tensorflow import keras \n",
    "from keras_preprocessing.image import ImageDataGenerator, load_img  \n",
    "import pandas as pd \n",
    "import matplotlib.pyplot as plt \n",
    "import random  \n",
    "import os  "
   ]
  },
  {
   "cell_type": "markdown",
   "id": "bd7c82dd",
   "metadata": {},
   "source": [
    "## Inicializações"
   ]
  },
  {
   "cell_type": "code",
   "execution_count": 38,
   "id": "a0e134b0",
   "metadata": {},
   "outputs": [],
   "source": [
    "dirTrain = \"../dataset/archive/train\"\n",
    "dirTest = \"../dataset/archive/test\"\n",
    "dirVal  = \"../dataset/archive/val\""
   ]
  },
  {
   "cell_type": "markdown",
   "id": "d03e6976",
   "metadata": {},
   "source": [
    "### Treino"
   ]
  },
  {
   "cell_type": "markdown",
   "id": "4f85638c",
   "metadata": {},
   "source": [
    "## Importando os dados"
   ]
  },
  {
   "cell_type": "code",
   "execution_count": null,
   "id": "0e352318",
   "metadata": {},
   "outputs": [
    {
     "data": {
      "text/html": [
       "<div>\n",
       "<style scoped>\n",
       "    .dataframe tbody tr th:only-of-type {\n",
       "        vertical-align: middle;\n",
       "    }\n",
       "\n",
       "    .dataframe tbody tr th {\n",
       "        vertical-align: top;\n",
       "    }\n",
       "\n",
       "    .dataframe thead th {\n",
       "        text-align: right;\n",
       "    }\n",
       "</style>\n",
       "<table border=\"1\" class=\"dataframe\">\n",
       "  <thead>\n",
       "    <tr style=\"text-align: right;\">\n",
       "      <th></th>\n",
       "      <th>filename</th>\n",
       "      <th>category</th>\n",
       "    </tr>\n",
       "  </thead>\n",
       "  <tbody>\n",
       "    <tr>\n",
       "      <th>0</th>\n",
       "      <td>16962.png</td>\n",
       "      <td>Sad</td>\n",
       "    </tr>\n",
       "    <tr>\n",
       "      <th>1</th>\n",
       "      <td>16905.png</td>\n",
       "      <td>Sad</td>\n",
       "    </tr>\n",
       "    <tr>\n",
       "      <th>2</th>\n",
       "      <td>6400.png</td>\n",
       "      <td>Sad</td>\n",
       "    </tr>\n",
       "    <tr>\n",
       "      <th>3</th>\n",
       "      <td>4857.png</td>\n",
       "      <td>Sad</td>\n",
       "    </tr>\n",
       "    <tr>\n",
       "      <th>4</th>\n",
       "      <td>19385.png</td>\n",
       "      <td>Sad</td>\n",
       "    </tr>\n",
       "  </tbody>\n",
       "</table>\n",
       "</div>"
      ],
      "text/plain": [
       "    filename category\n",
       "0  16962.png      Sad\n",
       "1  16905.png      Sad\n",
       "2   6400.png      Sad\n",
       "3   4857.png      Sad\n",
       "4  19385.png      Sad"
      ]
     },
     "execution_count": 28,
     "metadata": {},
     "output_type": "execute_result"
    }
   ],
   "source": [
    "todosArquivos = []\n",
    "todasCategorias = []\n",
    "\n",
    "\n",
    "for sentimento in os.listdir(dirTrain):\n",
    "    dirSentimento = os.path.join(dirTrain, sentimento)\n",
    "\n",
    "\n",
    "    for arquivo in os.listdir(dirSentimento):\n",
    "        todosArquivos.append(arquivo)\n",
    "        todasCategorias.append(sentimento)\n",
    "\n",
    "dfTrain = pd.DataFrame({\n",
    "    'filename' : todosArquivos,\n",
    "    'category' : todasCategorias \n",
    "})\n",
    "\n",
    "\n",
    "dfTrain.head()\n"
   ]
  },
  {
   "cell_type": "markdown",
   "id": "7a3c3493",
   "metadata": {},
   "source": [
    "## Análise exploratótia inicial"
   ]
  },
  {
   "cell_type": "code",
   "execution_count": 25,
   "id": "4ca12d19",
   "metadata": {},
   "outputs": [
    {
     "data": {
      "text/plain": [
       "category\n",
       "Happy       7215\n",
       "Neutral     4965\n",
       "Sad         4830\n",
       "Fear        4097\n",
       "Angry       3995\n",
       "Surprise    3171\n",
       "Disgust      436\n",
       "Name: count, dtype: int64"
      ]
     },
     "execution_count": 25,
     "metadata": {},
     "output_type": "execute_result"
    }
   ],
   "source": [
    "#Número de cada sentimento \n",
    "\n",
    "dfTrain['category'].value_counts()"
   ]
  },
  {
   "cell_type": "markdown",
   "id": "73215f9e",
   "metadata": {},
   "source": [
    "### Obs. \n",
    "A categoria Disgust possui uma quantidade muito menor significamente que as outras, o que pode enviesar o modelo. Portanto, aplicarei técnicas de <b>Data Augmentation </b> como tentativa de desbalanciar a base de dados."
   ]
  },
  {
   "cell_type": "markdown",
   "id": "e23b7f28",
   "metadata": {},
   "source": [
    "### Teste"
   ]
  },
  {
   "cell_type": "code",
   "execution_count": null,
   "id": "b4e0504a",
   "metadata": {},
   "outputs": [
    {
     "data": {
      "text/html": [
       "<div>\n",
       "<style scoped>\n",
       "    .dataframe tbody tr th:only-of-type {\n",
       "        vertical-align: middle;\n",
       "    }\n",
       "\n",
       "    .dataframe tbody tr th {\n",
       "        vertical-align: top;\n",
       "    }\n",
       "\n",
       "    .dataframe thead th {\n",
       "        text-align: right;\n",
       "    }\n",
       "</style>\n",
       "<table border=\"1\" class=\"dataframe\">\n",
       "  <thead>\n",
       "    <tr style=\"text-align: right;\">\n",
       "      <th></th>\n",
       "      <th>filename</th>\n",
       "      <th>category</th>\n",
       "    </tr>\n",
       "  </thead>\n",
       "  <tbody>\n",
       "    <tr>\n",
       "      <th>0</th>\n",
       "      <td>32668.png</td>\n",
       "      <td>Sad</td>\n",
       "    </tr>\n",
       "    <tr>\n",
       "      <th>1</th>\n",
       "      <td>34154.png</td>\n",
       "      <td>Sad</td>\n",
       "    </tr>\n",
       "    <tr>\n",
       "      <th>2</th>\n",
       "      <td>32552.png</td>\n",
       "      <td>Sad</td>\n",
       "    </tr>\n",
       "    <tr>\n",
       "      <th>3</th>\n",
       "      <td>35742.png</td>\n",
       "      <td>Sad</td>\n",
       "    </tr>\n",
       "    <tr>\n",
       "      <th>4</th>\n",
       "      <td>33089.png</td>\n",
       "      <td>Sad</td>\n",
       "    </tr>\n",
       "  </tbody>\n",
       "</table>\n",
       "</div>"
      ],
      "text/plain": [
       "    filename category\n",
       "0  32668.png      Sad\n",
       "1  34154.png      Sad\n",
       "2  32552.png      Sad\n",
       "3  35742.png      Sad\n",
       "4  33089.png      Sad"
      ]
     },
     "execution_count": 40,
     "metadata": {},
     "output_type": "execute_result"
    }
   ],
   "source": [
    "todosArquivos = []\n",
    "todasCategorias = []\n",
    "\n",
    "\n",
    "for sentimento in os.listdir(dirTest):\n",
    "    dirSentimento = os.path.join(dirTest, sentimento)\n",
    "\n",
    "    for arquivo in os.listdir(dirSentimento):\n",
    "        todosArquivos.append(arquivo)\n",
    "        todasCategorias.append(sentimento)\n",
    "\n",
    "\n",
    "dfTest = pd.DataFrame({\n",
    "    'filename' : todosArquivos,\n",
    "    'category' : todasCategorias \n",
    "})\n",
    "\n",
    "\n",
    "dfTest.head()\n",
    "        55"
   ]
  },
  {
   "cell_type": "code",
   "execution_count": 41,
   "id": "1f30ac70",
   "metadata": {},
   "outputs": [
    {
     "data": {
      "text/plain": [
       "category\n",
       "Happy       879\n",
       "Neutral     626\n",
       "Sad         594\n",
       "Fear        528\n",
       "Angry       491\n",
       "Surprise    416\n",
       "Disgust      55\n",
       "Name: count, dtype: int64"
      ]
     },
     "execution_count": 41,
     "metadata": {},
     "output_type": "execute_result"
    }
   ],
   "source": [
    "dfTest['category'].value_counts()"
   ]
  }
 ],
 "metadata": {
  "kernelspec": {
   "display_name": "tf",
   "language": "python",
   "name": "python3"
  },
  "language_info": {
   "codemirror_mode": {
    "name": "ipython",
    "version": 3
   },
   "file_extension": ".py",
   "mimetype": "text/x-python",
   "name": "python",
   "nbconvert_exporter": "python",
   "pygments_lexer": "ipython3",
   "version": "3.12.7"
  }
 },
 "nbformat": 4,
 "nbformat_minor": 5
}
